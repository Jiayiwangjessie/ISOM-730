{
  "nbformat": 4,
  "nbformat_minor": 0,
  "metadata": {
    "colab": {
      "name": "Counting_unique_names",
      "provenance": [],
      "authorship_tag": "ABX9TyPVLix2ihON8kuV0eRzmk13",
      "include_colab_link": true
    },
    "kernelspec": {
      "name": "python3",
      "display_name": "Python 3"
    }
  },
  "cells": [
    {
      "cell_type": "markdown",
      "metadata": {
        "id": "view-in-github",
        "colab_type": "text"
      },
      "source": [
        "<a href=\"https://colab.research.google.com/github/Jiayiwangjessie/ISOM-730/blob/master/Counting_unique_names.ipynb\" target=\"_parent\"><img src=\"https://colab.research.google.com/assets/colab-badge.svg\" alt=\"Open In Colab\"/></a>"
      ]
    },
    {
      "cell_type": "code",
      "metadata": {
        "id": "29QXAfVjTlmS",
        "colab_type": "code",
        "colab": {
          "base_uri": "https://localhost:8080/",
          "height": 35
        },
        "outputId": "63439196-dec2-46f2-c2ad-de3103e92340"
      },
      "source": [
        "counts = dict()\n",
        "names = ['a','b','a']\n",
        "\n",
        "for name in names:\n",
        "  counts[name]= counts.get(name,0)+1\n",
        "\n",
        "print(counts)"
      ],
      "execution_count": 1,
      "outputs": [
        {
          "output_type": "stream",
          "text": [
            "{'a': 2, 'b': 1}\n"
          ],
          "name": "stdout"
        }
      ]
    }
  ]
}