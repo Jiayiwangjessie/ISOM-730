{
  "nbformat": 4,
  "nbformat_minor": 0,
  "metadata": {
    "colab": {
      "name": "Untitled0.ipynb",
      "provenance": [],
      "toc_visible": true,
      "authorship_tag": "ABX9TyNCnRtCHF1m+p+tdD3vq+tf",
      "include_colab_link": true
    },
    "kernelspec": {
      "name": "python3",
      "display_name": "Python 3"
    }
  },
  "cells": [
    {
      "cell_type": "markdown",
      "metadata": {
        "id": "view-in-github",
        "colab_type": "text"
      },
      "source": [
        "<a href=\"https://colab.research.google.com/github/Jiayiwangjessie/ISOM-730/blob/master/Romeo%20case.ipynb\" target=\"_parent\"><img src=\"https://colab.research.google.com/assets/colab-badge.svg\" alt=\"Open In Colab\"/></a>"
      ]
    },
    {
      "cell_type": "code",
      "metadata": {
        "id": "IREyuvJJYwMZ",
        "colab_type": "code",
        "colab": {
          "base_uri": "https://localhost:8080/",
          "height": 53
        },
        "outputId": "c2886a1d-ca85-4994-dae0-05c7e4bf407f"
      },
      "source": [
        "jjj = {'a': 10,'b': 20}\n",
        "for x, y in jjj.items():\n",
        "  print(x,y)"
      ],
      "execution_count": 1,
      "outputs": [
        {
          "output_type": "stream",
          "text": [
            "a 10\n",
            "b 20\n"
          ],
          "name": "stdout"
        }
      ]
    },
    {
      "cell_type": "code",
      "metadata": {
        "id": "4prvsgyabPYY",
        "colab_type": "code",
        "colab": {
          "base_uri": "https://localhost:8080/",
          "height": 53
        },
        "outputId": "2c8fe9f4-e750-4a6e-fad3-fa27b8fa827b"
      },
      "source": [
        "a = 10\n",
        "b = 20\n",
        "print(a)\n",
        "print(b)"
      ],
      "execution_count": 2,
      "outputs": [
        {
          "output_type": "stream",
          "text": [
            "10\n",
            "20\n"
          ],
          "name": "stdout"
        }
      ]
    },
    {
      "cell_type": "code",
      "metadata": {
        "id": "CTZvNcNbbahC",
        "colab_type": "code",
        "colab": {}
      },
      "source": [
        "(a, b) = (b, a)"
      ],
      "execution_count": 0,
      "outputs": []
    },
    {
      "cell_type": "code",
      "metadata": {
        "id": "VIj9uDFbbhc0",
        "colab_type": "code",
        "colab": {
          "base_uri": "https://localhost:8080/",
          "height": 35
        },
        "outputId": "6a73000c-48fb-489d-c036-b56baf224a68"
      },
      "source": [
        "print(a)"
      ],
      "execution_count": 4,
      "outputs": [
        {
          "output_type": "stream",
          "text": [
            "20\n"
          ],
          "name": "stdout"
        }
      ]
    },
    {
      "cell_type": "code",
      "metadata": {
        "id": "mFnCbr7ecwgT",
        "colab_type": "code",
        "colab": {
          "base_uri": "https://localhost:8080/",
          "height": 35
        },
        "outputId": "e9899ffd-63d2-4f00-b4d3-68db9c3b4ae3"
      },
      "source": [
        "a= [1,9,3]\n",
        "sorted(a)"
      ],
      "execution_count": 5,
      "outputs": [
        {
          "output_type": "execute_result",
          "data": {
            "text/plain": [
              "[1, 3, 9]"
            ]
          },
          "metadata": {
            "tags": []
          },
          "execution_count": 5
        }
      ]
    },
    {
      "cell_type": "code",
      "metadata": {
        "id": "UHV4yE1Qyuh6",
        "colab_type": "code",
        "colab": {
          "base_uri": "https://localhost:8080/",
          "height": 197
        },
        "outputId": "10551fa5-9f22-414c-dd6c-42c45870d15f"
      },
      "source": [
        "fhand = open('romeo.txt')\n",
        "counts = {}\n",
        "for line in fhand:\n",
        "  words = line.split()\n",
        "  for word in words:\n",
        "    counts[word]= counts.get(word,0)+1\n",
        "\n",
        "lst=[]\n",
        "for key, val in counts.items():\n",
        "  newtup = (val, key)\n",
        "  lst.append(newtup)\n",
        "lst = sorted(lst, reverse=True)\n",
        "\n",
        "for val, key in lst[:10]:\n",
        "  print(key, val)\n"
      ],
      "execution_count": 13,
      "outputs": [
        {
          "output_type": "stream",
          "text": [
            "the 3\n",
            "is 3\n",
            "and 3\n",
            "sun 2\n",
            "yonder 1\n",
            "with 1\n",
            "window 1\n",
            "who 1\n",
            "what 1\n",
            "through 1\n"
          ],
          "name": "stdout"
        }
      ]
    }
  ]
}