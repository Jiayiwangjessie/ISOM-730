{
  "nbformat": 4,
  "nbformat_minor": 0,
  "metadata": {
    "kernelspec": {
      "display_name": "Python 3",
      "language": "python",
      "name": "python3"
    },
    "language_info": {
      "codemirror_mode": {
        "name": "ipython",
        "version": 3
      },
      "file_extension": ".py",
      "mimetype": "text/x-python",
      "name": "python",
      "nbconvert_exporter": "python",
      "pygments_lexer": "ipython3",
      "version": "3.7.6"
    },
    "colab": {
      "name": "AirPollution SQL&Python Project_Jiayi Wang.ipynb",
      "provenance": [],
      "include_colab_link": true
    }
  },
  "cells": [
    {
      "cell_type": "markdown",
      "metadata": {
        "id": "view-in-github",
        "colab_type": "text"
      },
      "source": [
        "<a href=\"https://colab.research.google.com/github/Jiayiwangjessie/ISOM-730/blob/master/AirPollution_SQL%26Python_Project_Jiayi_Wang.ipynb\" target=\"_parent\"><img src=\"https://colab.research.google.com/assets/colab-badge.svg\" alt=\"Open In Colab\"/></a>"
      ]
    },
    {
      "cell_type": "code",
      "metadata": {
        "id": "nwgLyMXTubJd",
        "colab_type": "code",
        "colab": {}
      },
      "source": [
        "import numpy as np\n",
        "import pandas as pd\n",
        "import sqlite3\n",
        "import matplotlib.pyplot as plt\n",
        "import seaborn as sns"
      ],
      "execution_count": 0,
      "outputs": []
    },
    {
      "cell_type": "code",
      "metadata": {
        "id": "A1D3cMrYubJg",
        "colab_type": "code",
        "colab": {}
      },
      "source": [
        "import sqlite3\n",
        "\n",
        "conn = sqlite3.connect('AirPollutionDB.db')  \n",
        "c = conn.cursor() \n",
        "\n",
        "# Create table - \n",
        "c.execute('''CREATE TABLE Measurement\n",
        "             ([Measurement_date] DATETIME,[Station_code] integer, [SO2] REAL, [NO2] REAL, [O3] REAL, [CO] REAL,[PM10] integer,[PM2.5] integer)''')\n",
        "c.execute('''CREATE TABLE Measurement_info\n",
        "             ([Measurement_date] DATETIME,[Station_code] integer, [Item_code] integer, [Average_value] REAL, [Instrument_status] integer)''')\n",
        "c.execute('''CREATE TABLE Measurement_item_info\n",
        "             ([Item_code] integer primary key, [Item_name] text, [Unit_of_measurement] text, [Good] REAL, [Normal] REAL, [Bad] REAL,[Very bad] REAL)''')\n",
        "c.execute('''CREATE TABLE Measurement_station_info\n",
        "             ([Station_code] integer primary key, [Station_name] text, [Address] text, [Latitude] REAL, [Longitude] REAL)''')\n",
        "conn.commit()"
      ],
      "execution_count": 0,
      "outputs": []
    },
    {
      "cell_type": "code",
      "metadata": {
        "id": "Nk7PSr3uubJj",
        "colab_type": "code",
        "colab": {}
      },
      "source": [
        "import sqlite3\n",
        "import pandas as pd\n",
        "from pandas import DataFrame\n",
        "\n",
        "conn = sqlite3.connect('AirPollutionDB.db')  \n",
        "c = conn.cursor()"
      ],
      "execution_count": 0,
      "outputs": []
    },
    {
      "cell_type": "code",
      "metadata": {
        "id": "lHDbPKPQubJl",
        "colab_type": "code",
        "colab": {}
      },
      "source": [
        "read_measurement=pd.read_csv('Measurement.csv')\n",
        "read_measurement.to_sql('Measurement', conn, if_exists='append', index = False)"
      ],
      "execution_count": 0,
      "outputs": []
    },
    {
      "cell_type": "code",
      "metadata": {
        "id": "ssskRKRaubJn",
        "colab_type": "code",
        "colab": {}
      },
      "source": [
        "read_measurement=pd.read_csv('Measurement_info.csv')\n",
        "read_measurement.to_sql('Measurement_info', conn, if_exists='append', index = False)"
      ],
      "execution_count": 0,
      "outputs": []
    },
    {
      "cell_type": "code",
      "metadata": {
        "id": "U91SrPi2ubJr",
        "colab_type": "code",
        "colab": {},
        "outputId": "513dd6f7-8068-40ec-caf9-4d7e9c9aa9e2"
      },
      "source": [
        "read_measurement=pd.read_csv('Measurement_item_info.csv')\n",
        "read_measurement.to_sql('Measurement_item_info', conn, if_exists='append', index = False)"
      ],
      "execution_count": 0,
      "outputs": [
        {
          "output_type": "stream",
          "text": [
            "/Users/jiayiwang/opt/anaconda3/lib/python3.7/site-packages/pandas/core/generic.py:2663: UserWarning: The spaces in these column names will not be changed. In pandas versions < 0.14, spaces were converted to underscores.\n",
            "  method=method,\n"
          ],
          "name": "stderr"
        }
      ]
    },
    {
      "cell_type": "code",
      "metadata": {
        "id": "yBQLT4lJubJu",
        "colab_type": "code",
        "colab": {}
      },
      "source": [
        "read_measurement=pd.read_csv('Measurement_station_info.csv')\n",
        "read_measurement.to_sql('Measurement_station_info', conn, if_exists='append', index = False)"
      ],
      "execution_count": 0,
      "outputs": []
    },
    {
      "cell_type": "code",
      "metadata": {
        "id": "QVBZK5dVubJx",
        "colab_type": "code",
        "colab": {},
        "outputId": "c294cf81-1d3e-4d3a-99e1-7c95ce13ed7f"
      },
      "source": [
        "tables = pd.read_sql(\"\"\"SELECT *\n",
        "                        FROM sqlite_master\n",
        "                        WHERE type='table';\"\"\", conn)\n",
        "tables"
      ],
      "execution_count": 0,
      "outputs": [
        {
          "output_type": "execute_result",
          "data": {
            "text/html": [
              "<div>\n",
              "<style scoped>\n",
              "    .dataframe tbody tr th:only-of-type {\n",
              "        vertical-align: middle;\n",
              "    }\n",
              "\n",
              "    .dataframe tbody tr th {\n",
              "        vertical-align: top;\n",
              "    }\n",
              "\n",
              "    .dataframe thead th {\n",
              "        text-align: right;\n",
              "    }\n",
              "</style>\n",
              "<table border=\"1\" class=\"dataframe\">\n",
              "  <thead>\n",
              "    <tr style=\"text-align: right;\">\n",
              "      <th></th>\n",
              "      <th>type</th>\n",
              "      <th>name</th>\n",
              "      <th>tbl_name</th>\n",
              "      <th>rootpage</th>\n",
              "      <th>sql</th>\n",
              "    </tr>\n",
              "  </thead>\n",
              "  <tbody>\n",
              "    <tr>\n",
              "      <th>0</th>\n",
              "      <td>table</td>\n",
              "      <td>Measurement</td>\n",
              "      <td>Measurement</td>\n",
              "      <td>2</td>\n",
              "      <td>CREATE TABLE Measurement\\n             ([Measu...</td>\n",
              "    </tr>\n",
              "    <tr>\n",
              "      <th>1</th>\n",
              "      <td>table</td>\n",
              "      <td>Measurement_info</td>\n",
              "      <td>Measurement_info</td>\n",
              "      <td>3</td>\n",
              "      <td>CREATE TABLE Measurement_info\\n             ([...</td>\n",
              "    </tr>\n",
              "    <tr>\n",
              "      <th>2</th>\n",
              "      <td>table</td>\n",
              "      <td>Measurement_item_info</td>\n",
              "      <td>Measurement_item_info</td>\n",
              "      <td>4</td>\n",
              "      <td>CREATE TABLE Measurement_item_info\\n          ...</td>\n",
              "    </tr>\n",
              "    <tr>\n",
              "      <th>3</th>\n",
              "      <td>table</td>\n",
              "      <td>Measurement_station_info</td>\n",
              "      <td>Measurement_station_info</td>\n",
              "      <td>5</td>\n",
              "      <td>CREATE TABLE Measurement_station_info\\n       ...</td>\n",
              "    </tr>\n",
              "  </tbody>\n",
              "</table>\n",
              "</div>"
            ],
            "text/plain": [
              "    type                      name                  tbl_name  rootpage  \\\n",
              "0  table               Measurement               Measurement         2   \n",
              "1  table          Measurement_info          Measurement_info         3   \n",
              "2  table     Measurement_item_info     Measurement_item_info         4   \n",
              "3  table  Measurement_station_info  Measurement_station_info         5   \n",
              "\n",
              "                                                 sql  \n",
              "0  CREATE TABLE Measurement\\n             ([Measu...  \n",
              "1  CREATE TABLE Measurement_info\\n             ([...  \n",
              "2  CREATE TABLE Measurement_item_info\\n          ...  \n",
              "3  CREATE TABLE Measurement_station_info\\n       ...  "
            ]
          },
          "metadata": {
            "tags": []
          },
          "execution_count": 8
        }
      ]
    },
    {
      "cell_type": "code",
      "metadata": {
        "id": "TV8uelu4ubJ0",
        "colab_type": "code",
        "colab": {},
        "outputId": "3c805993-a9d0-4eea-c7c0-e24785292c19"
      },
      "source": [
        "measurement = pd.read_sql(\"\"\"SELECT *\n",
        "                              FROM Measurement;\"\"\", conn)\n",
        "measurement.head()"
      ],
      "execution_count": 0,
      "outputs": [
        {
          "output_type": "execute_result",
          "data": {
            "text/html": [
              "<div>\n",
              "<style scoped>\n",
              "    .dataframe tbody tr th:only-of-type {\n",
              "        vertical-align: middle;\n",
              "    }\n",
              "\n",
              "    .dataframe tbody tr th {\n",
              "        vertical-align: top;\n",
              "    }\n",
              "\n",
              "    .dataframe thead th {\n",
              "        text-align: right;\n",
              "    }\n",
              "</style>\n",
              "<table border=\"1\" class=\"dataframe\">\n",
              "  <thead>\n",
              "    <tr style=\"text-align: right;\">\n",
              "      <th></th>\n",
              "      <th>Measurement_date</th>\n",
              "      <th>Station_code</th>\n",
              "      <th>SO2</th>\n",
              "      <th>NO2</th>\n",
              "      <th>O3</th>\n",
              "      <th>CO</th>\n",
              "      <th>PM10</th>\n",
              "      <th>PM2.5</th>\n",
              "    </tr>\n",
              "  </thead>\n",
              "  <tbody>\n",
              "    <tr>\n",
              "      <th>0</th>\n",
              "      <td>1/1/17 0:00</td>\n",
              "      <td>101</td>\n",
              "      <td>0.004</td>\n",
              "      <td>0.059</td>\n",
              "      <td>0.002</td>\n",
              "      <td>1.2</td>\n",
              "      <td>73</td>\n",
              "      <td>57</td>\n",
              "    </tr>\n",
              "    <tr>\n",
              "      <th>1</th>\n",
              "      <td>1/1/17 1:00</td>\n",
              "      <td>101</td>\n",
              "      <td>0.004</td>\n",
              "      <td>0.058</td>\n",
              "      <td>0.002</td>\n",
              "      <td>1.2</td>\n",
              "      <td>71</td>\n",
              "      <td>59</td>\n",
              "    </tr>\n",
              "    <tr>\n",
              "      <th>2</th>\n",
              "      <td>1/1/17 2:00</td>\n",
              "      <td>101</td>\n",
              "      <td>0.004</td>\n",
              "      <td>0.056</td>\n",
              "      <td>0.002</td>\n",
              "      <td>1.2</td>\n",
              "      <td>70</td>\n",
              "      <td>59</td>\n",
              "    </tr>\n",
              "    <tr>\n",
              "      <th>3</th>\n",
              "      <td>1/1/17 3:00</td>\n",
              "      <td>101</td>\n",
              "      <td>0.004</td>\n",
              "      <td>0.056</td>\n",
              "      <td>0.002</td>\n",
              "      <td>1.2</td>\n",
              "      <td>70</td>\n",
              "      <td>58</td>\n",
              "    </tr>\n",
              "    <tr>\n",
              "      <th>4</th>\n",
              "      <td>1/1/17 4:00</td>\n",
              "      <td>101</td>\n",
              "      <td>0.003</td>\n",
              "      <td>0.051</td>\n",
              "      <td>0.002</td>\n",
              "      <td>1.2</td>\n",
              "      <td>69</td>\n",
              "      <td>61</td>\n",
              "    </tr>\n",
              "  </tbody>\n",
              "</table>\n",
              "</div>"
            ],
            "text/plain": [
              "  Measurement_date  Station_code    SO2    NO2     O3   CO  PM10  PM2.5\n",
              "0      1/1/17 0:00           101  0.004  0.059  0.002  1.2    73     57\n",
              "1      1/1/17 1:00           101  0.004  0.058  0.002  1.2    71     59\n",
              "2      1/1/17 2:00           101  0.004  0.056  0.002  1.2    70     59\n",
              "3      1/1/17 3:00           101  0.004  0.056  0.002  1.2    70     58\n",
              "4      1/1/17 4:00           101  0.003  0.051  0.002  1.2    69     61"
            ]
          },
          "metadata": {
            "tags": []
          },
          "execution_count": 22
        }
      ]
    },
    {
      "cell_type": "code",
      "metadata": {
        "id": "1B4vsO54ubJ2",
        "colab_type": "code",
        "colab": {},
        "outputId": "e23454db-ec18-46a5-cd32-331bb4ced89a"
      },
      "source": [
        "measurement_i=pd.read_sql(\"\"\"SELECT *\n",
        "                              FROM Measurement_info;\"\"\", conn)\n",
        "measurement_i.head()"
      ],
      "execution_count": 0,
      "outputs": [
        {
          "output_type": "execute_result",
          "data": {
            "text/html": [
              "<div>\n",
              "<style scoped>\n",
              "    .dataframe tbody tr th:only-of-type {\n",
              "        vertical-align: middle;\n",
              "    }\n",
              "\n",
              "    .dataframe tbody tr th {\n",
              "        vertical-align: top;\n",
              "    }\n",
              "\n",
              "    .dataframe thead th {\n",
              "        text-align: right;\n",
              "    }\n",
              "</style>\n",
              "<table border=\"1\" class=\"dataframe\">\n",
              "  <thead>\n",
              "    <tr style=\"text-align: right;\">\n",
              "      <th></th>\n",
              "      <th>Measurement_date</th>\n",
              "      <th>Station_code</th>\n",
              "      <th>Item_code</th>\n",
              "      <th>Average_value</th>\n",
              "      <th>Instrument_status</th>\n",
              "    </tr>\n",
              "  </thead>\n",
              "  <tbody>\n",
              "    <tr>\n",
              "      <th>0</th>\n",
              "      <td>1/1/17 0:00</td>\n",
              "      <td>101</td>\n",
              "      <td>1</td>\n",
              "      <td>0.004</td>\n",
              "      <td>0</td>\n",
              "    </tr>\n",
              "    <tr>\n",
              "      <th>1</th>\n",
              "      <td>1/1/17 0:00</td>\n",
              "      <td>101</td>\n",
              "      <td>3</td>\n",
              "      <td>0.059</td>\n",
              "      <td>0</td>\n",
              "    </tr>\n",
              "    <tr>\n",
              "      <th>2</th>\n",
              "      <td>1/1/17 0:00</td>\n",
              "      <td>101</td>\n",
              "      <td>5</td>\n",
              "      <td>1.200</td>\n",
              "      <td>0</td>\n",
              "    </tr>\n",
              "    <tr>\n",
              "      <th>3</th>\n",
              "      <td>1/1/17 0:00</td>\n",
              "      <td>101</td>\n",
              "      <td>6</td>\n",
              "      <td>0.002</td>\n",
              "      <td>0</td>\n",
              "    </tr>\n",
              "    <tr>\n",
              "      <th>4</th>\n",
              "      <td>1/1/17 0:00</td>\n",
              "      <td>101</td>\n",
              "      <td>8</td>\n",
              "      <td>73.000</td>\n",
              "      <td>0</td>\n",
              "    </tr>\n",
              "  </tbody>\n",
              "</table>\n",
              "</div>"
            ],
            "text/plain": [
              "  Measurement_date  Station_code  Item_code  Average_value  Instrument_status\n",
              "0      1/1/17 0:00           101          1          0.004                  0\n",
              "1      1/1/17 0:00           101          3          0.059                  0\n",
              "2      1/1/17 0:00           101          5          1.200                  0\n",
              "3      1/1/17 0:00           101          6          0.002                  0\n",
              "4      1/1/17 0:00           101          8         73.000                  0"
            ]
          },
          "metadata": {
            "tags": []
          },
          "execution_count": 32
        }
      ]
    },
    {
      "cell_type": "code",
      "metadata": {
        "id": "0H37tpgOubJ4",
        "colab_type": "code",
        "colab": {},
        "outputId": "e3cb4f6d-169a-4b4d-a85d-9df0225bea98"
      },
      "source": [
        "measurement_i_i=pd.read_sql(\"\"\"SELECT *\n",
        "                              FROM Measurement_item_info;\"\"\", conn)\n",
        "measurement_i_i.head()"
      ],
      "execution_count": 0,
      "outputs": [
        {
          "output_type": "execute_result",
          "data": {
            "text/html": [
              "<div>\n",
              "<style scoped>\n",
              "    .dataframe tbody tr th:only-of-type {\n",
              "        vertical-align: middle;\n",
              "    }\n",
              "\n",
              "    .dataframe tbody tr th {\n",
              "        vertical-align: top;\n",
              "    }\n",
              "\n",
              "    .dataframe thead th {\n",
              "        text-align: right;\n",
              "    }\n",
              "</style>\n",
              "<table border=\"1\" class=\"dataframe\">\n",
              "  <thead>\n",
              "    <tr style=\"text-align: right;\">\n",
              "      <th></th>\n",
              "      <th>Item_code</th>\n",
              "      <th>Item_name</th>\n",
              "      <th>Unit_of_measurement</th>\n",
              "      <th>Good</th>\n",
              "      <th>Normal</th>\n",
              "      <th>Bad</th>\n",
              "      <th>Very bad</th>\n",
              "    </tr>\n",
              "  </thead>\n",
              "  <tbody>\n",
              "    <tr>\n",
              "      <th>0</th>\n",
              "      <td>1</td>\n",
              "      <td>SO2</td>\n",
              "      <td>ppm</td>\n",
              "      <td>0.02</td>\n",
              "      <td>0.05</td>\n",
              "      <td>0.15</td>\n",
              "      <td>1.0</td>\n",
              "    </tr>\n",
              "    <tr>\n",
              "      <th>1</th>\n",
              "      <td>3</td>\n",
              "      <td>NO2</td>\n",
              "      <td>ppm</td>\n",
              "      <td>0.03</td>\n",
              "      <td>0.06</td>\n",
              "      <td>0.20</td>\n",
              "      <td>2.0</td>\n",
              "    </tr>\n",
              "    <tr>\n",
              "      <th>2</th>\n",
              "      <td>5</td>\n",
              "      <td>CO</td>\n",
              "      <td>ppm</td>\n",
              "      <td>2.00</td>\n",
              "      <td>9.00</td>\n",
              "      <td>15.00</td>\n",
              "      <td>50.0</td>\n",
              "    </tr>\n",
              "    <tr>\n",
              "      <th>3</th>\n",
              "      <td>6</td>\n",
              "      <td>O3</td>\n",
              "      <td>ppm</td>\n",
              "      <td>0.03</td>\n",
              "      <td>0.09</td>\n",
              "      <td>0.15</td>\n",
              "      <td>0.5</td>\n",
              "    </tr>\n",
              "    <tr>\n",
              "      <th>4</th>\n",
              "      <td>8</td>\n",
              "      <td>PM10</td>\n",
              "      <td>Mircrogram/m3</td>\n",
              "      <td>30.00</td>\n",
              "      <td>80.00</td>\n",
              "      <td>150.00</td>\n",
              "      <td>600.0</td>\n",
              "    </tr>\n",
              "  </tbody>\n",
              "</table>\n",
              "</div>"
            ],
            "text/plain": [
              "   Item_code Item_name Unit_of_measurement   Good  Normal     Bad  Very bad\n",
              "0          1       SO2                 ppm   0.02    0.05    0.15       1.0\n",
              "1          3       NO2                 ppm   0.03    0.06    0.20       2.0\n",
              "2          5        CO                 ppm   2.00    9.00   15.00      50.0\n",
              "3          6        O3                 ppm   0.03    0.09    0.15       0.5\n",
              "4          8      PM10       Mircrogram/m3  30.00   80.00  150.00     600.0"
            ]
          },
          "metadata": {
            "tags": []
          },
          "execution_count": 33
        }
      ]
    },
    {
      "cell_type": "code",
      "metadata": {
        "id": "EIjlaLQdubJ6",
        "colab_type": "code",
        "colab": {},
        "outputId": "fe2aa1e5-34d3-489a-fc75-5731aeb804ed"
      },
      "source": [
        "measurement_s_i=pd.read_sql(\"\"\"SELECT *\n",
        "                               FROM Measurement_station_info;\"\"\", conn)\n",
        "measurement_s_i.head()"
      ],
      "execution_count": 0,
      "outputs": [
        {
          "output_type": "execute_result",
          "data": {
            "text/html": [
              "<div>\n",
              "<style scoped>\n",
              "    .dataframe tbody tr th:only-of-type {\n",
              "        vertical-align: middle;\n",
              "    }\n",
              "\n",
              "    .dataframe tbody tr th {\n",
              "        vertical-align: top;\n",
              "    }\n",
              "\n",
              "    .dataframe thead th {\n",
              "        text-align: right;\n",
              "    }\n",
              "</style>\n",
              "<table border=\"1\" class=\"dataframe\">\n",
              "  <thead>\n",
              "    <tr style=\"text-align: right;\">\n",
              "      <th></th>\n",
              "      <th>Station_code</th>\n",
              "      <th>Station_name</th>\n",
              "      <th>Address</th>\n",
              "      <th>Latitude</th>\n",
              "      <th>Longitude</th>\n",
              "    </tr>\n",
              "  </thead>\n",
              "  <tbody>\n",
              "    <tr>\n",
              "      <th>0</th>\n",
              "      <td>101</td>\n",
              "      <td>Jongno-gu</td>\n",
              "      <td>19, Jong-ro 35ga-gil, Jongno-gu, Seoul, Republ...</td>\n",
              "      <td>37.572016</td>\n",
              "      <td>127.005007</td>\n",
              "    </tr>\n",
              "    <tr>\n",
              "      <th>1</th>\n",
              "      <td>102</td>\n",
              "      <td>Jung-gu</td>\n",
              "      <td>15, Deoksugung-gil, Jung-gu, Seoul, Republic o...</td>\n",
              "      <td>37.564263</td>\n",
              "      <td>126.974676</td>\n",
              "    </tr>\n",
              "    <tr>\n",
              "      <th>2</th>\n",
              "      <td>103</td>\n",
              "      <td>Yongsan-gu</td>\n",
              "      <td>136, Hannam-daero, Yongsan-gu, Seoul, Republic...</td>\n",
              "      <td>37.540033</td>\n",
              "      <td>127.004850</td>\n",
              "    </tr>\n",
              "    <tr>\n",
              "      <th>3</th>\n",
              "      <td>104</td>\n",
              "      <td>Eunpyeong-gu</td>\n",
              "      <td>215, Jinheung-ro, Eunpyeong-gu, Seoul, Republi...</td>\n",
              "      <td>37.609823</td>\n",
              "      <td>126.934848</td>\n",
              "    </tr>\n",
              "    <tr>\n",
              "      <th>4</th>\n",
              "      <td>105</td>\n",
              "      <td>Seodaemun-gu</td>\n",
              "      <td>32, Segeomjeong-ro 4-gil, Seodaemun-gu, Seoul,...</td>\n",
              "      <td>37.593742</td>\n",
              "      <td>126.949679</td>\n",
              "    </tr>\n",
              "  </tbody>\n",
              "</table>\n",
              "</div>"
            ],
            "text/plain": [
              "   Station_code  Station_name  \\\n",
              "0           101     Jongno-gu   \n",
              "1           102       Jung-gu   \n",
              "2           103    Yongsan-gu   \n",
              "3           104  Eunpyeong-gu   \n",
              "4           105  Seodaemun-gu   \n",
              "\n",
              "                                             Address   Latitude   Longitude  \n",
              "0  19, Jong-ro 35ga-gil, Jongno-gu, Seoul, Republ...  37.572016  127.005007  \n",
              "1  15, Deoksugung-gil, Jung-gu, Seoul, Republic o...  37.564263  126.974676  \n",
              "2  136, Hannam-daero, Yongsan-gu, Seoul, Republic...  37.540033  127.004850  \n",
              "3  215, Jinheung-ro, Eunpyeong-gu, Seoul, Republi...  37.609823  126.934848  \n",
              "4  32, Segeomjeong-ro 4-gil, Seodaemun-gu, Seoul,...  37.593742  126.949679  "
            ]
          },
          "metadata": {
            "tags": []
          },
          "execution_count": 35
        }
      ]
    },
    {
      "cell_type": "code",
      "metadata": {
        "id": "qJABD8iDubJ8",
        "colab_type": "code",
        "colab": {},
        "outputId": "f8a5db0e-b280-43e2-9e22-f9c98b16fcbc"
      },
      "source": [
        "s = pd.read_sql(\"\"\"SELECT Station_code, Station_name\n",
        "                               FROM Measurement_station_info;\"\"\", conn)\n",
        "\n",
        "s.head()"
      ],
      "execution_count": 0,
      "outputs": [
        {
          "output_type": "execute_result",
          "data": {
            "text/html": [
              "<div>\n",
              "<style scoped>\n",
              "    .dataframe tbody tr th:only-of-type {\n",
              "        vertical-align: middle;\n",
              "    }\n",
              "\n",
              "    .dataframe tbody tr th {\n",
              "        vertical-align: top;\n",
              "    }\n",
              "\n",
              "    .dataframe thead th {\n",
              "        text-align: right;\n",
              "    }\n",
              "</style>\n",
              "<table border=\"1\" class=\"dataframe\">\n",
              "  <thead>\n",
              "    <tr style=\"text-align: right;\">\n",
              "      <th></th>\n",
              "      <th>Station_code</th>\n",
              "      <th>Station_name</th>\n",
              "    </tr>\n",
              "  </thead>\n",
              "  <tbody>\n",
              "    <tr>\n",
              "      <th>0</th>\n",
              "      <td>101</td>\n",
              "      <td>Jongno-gu</td>\n",
              "    </tr>\n",
              "    <tr>\n",
              "      <th>1</th>\n",
              "      <td>102</td>\n",
              "      <td>Jung-gu</td>\n",
              "    </tr>\n",
              "    <tr>\n",
              "      <th>2</th>\n",
              "      <td>103</td>\n",
              "      <td>Yongsan-gu</td>\n",
              "    </tr>\n",
              "    <tr>\n",
              "      <th>3</th>\n",
              "      <td>104</td>\n",
              "      <td>Eunpyeong-gu</td>\n",
              "    </tr>\n",
              "    <tr>\n",
              "      <th>4</th>\n",
              "      <td>105</td>\n",
              "      <td>Seodaemun-gu</td>\n",
              "    </tr>\n",
              "  </tbody>\n",
              "</table>\n",
              "</div>"
            ],
            "text/plain": [
              "   Station_code  Station_name\n",
              "0           101     Jongno-gu\n",
              "1           102       Jung-gu\n",
              "2           103    Yongsan-gu\n",
              "3           104  Eunpyeong-gu\n",
              "4           105  Seodaemun-gu"
            ]
          },
          "metadata": {
            "tags": []
          },
          "execution_count": 41
        }
      ]
    },
    {
      "cell_type": "code",
      "metadata": {
        "id": "I2TweJ1nubJ-",
        "colab_type": "code",
        "colab": {},
        "outputId": "daf1d5a9-549a-49a2-8ae3-812a7d0a90ec"
      },
      "source": [
        "measurement.isnull().sum()"
      ],
      "execution_count": 0,
      "outputs": [
        {
          "output_type": "execute_result",
          "data": {
            "text/plain": [
              "Measurement_date    0\n",
              "Station_code        0\n",
              "SO2                 0\n",
              "NO2                 0\n",
              "O3                  0\n",
              "CO                  0\n",
              "PM10                0\n",
              "PM2.5               0\n",
              "dtype: int64"
            ]
          },
          "metadata": {
            "tags": []
          },
          "execution_count": 47
        }
      ]
    },
    {
      "cell_type": "code",
      "metadata": {
        "id": "9hllnUc6ubKA",
        "colab_type": "code",
        "colab": {},
        "outputId": "0f5d53ab-5abe-4501-fbb8-65db12d5126c"
      },
      "source": [
        "measurement[['SO2', 'NO2', 'O3', 'CO', 'PM10', 'PM2.5']].describe()"
      ],
      "execution_count": 0,
      "outputs": [
        {
          "output_type": "execute_result",
          "data": {
            "text/html": [
              "<div>\n",
              "<style scoped>\n",
              "    .dataframe tbody tr th:only-of-type {\n",
              "        vertical-align: middle;\n",
              "    }\n",
              "\n",
              "    .dataframe tbody tr th {\n",
              "        vertical-align: top;\n",
              "    }\n",
              "\n",
              "    .dataframe thead th {\n",
              "        text-align: right;\n",
              "    }\n",
              "</style>\n",
              "<table border=\"1\" class=\"dataframe\">\n",
              "  <thead>\n",
              "    <tr style=\"text-align: right;\">\n",
              "      <th></th>\n",
              "      <th>SO2</th>\n",
              "      <th>NO2</th>\n",
              "      <th>O3</th>\n",
              "      <th>CO</th>\n",
              "      <th>PM10</th>\n",
              "      <th>PM2.5</th>\n",
              "    </tr>\n",
              "  </thead>\n",
              "  <tbody>\n",
              "    <tr>\n",
              "      <th>count</th>\n",
              "      <td>647511.000000</td>\n",
              "      <td>647511.000000</td>\n",
              "      <td>647511.000000</td>\n",
              "      <td>647511.000000</td>\n",
              "      <td>647511.000000</td>\n",
              "      <td>647511.000000</td>\n",
              "    </tr>\n",
              "    <tr>\n",
              "      <th>mean</th>\n",
              "      <td>-0.001795</td>\n",
              "      <td>0.022519</td>\n",
              "      <td>0.017979</td>\n",
              "      <td>0.509197</td>\n",
              "      <td>43.708051</td>\n",
              "      <td>25.411995</td>\n",
              "    </tr>\n",
              "    <tr>\n",
              "      <th>std</th>\n",
              "      <td>0.078832</td>\n",
              "      <td>0.115153</td>\n",
              "      <td>0.099308</td>\n",
              "      <td>0.405319</td>\n",
              "      <td>71.137342</td>\n",
              "      <td>43.924595</td>\n",
              "    </tr>\n",
              "    <tr>\n",
              "      <th>min</th>\n",
              "      <td>-1.000000</td>\n",
              "      <td>-1.000000</td>\n",
              "      <td>-1.000000</td>\n",
              "      <td>-1.000000</td>\n",
              "      <td>-1.000000</td>\n",
              "      <td>-1.000000</td>\n",
              "    </tr>\n",
              "    <tr>\n",
              "      <th>25%</th>\n",
              "      <td>0.003000</td>\n",
              "      <td>0.016000</td>\n",
              "      <td>0.008000</td>\n",
              "      <td>0.300000</td>\n",
              "      <td>22.000000</td>\n",
              "      <td>11.000000</td>\n",
              "    </tr>\n",
              "    <tr>\n",
              "      <th>50%</th>\n",
              "      <td>0.004000</td>\n",
              "      <td>0.025000</td>\n",
              "      <td>0.021000</td>\n",
              "      <td>0.500000</td>\n",
              "      <td>35.000000</td>\n",
              "      <td>19.000000</td>\n",
              "    </tr>\n",
              "    <tr>\n",
              "      <th>75%</th>\n",
              "      <td>0.005000</td>\n",
              "      <td>0.038000</td>\n",
              "      <td>0.034000</td>\n",
              "      <td>0.600000</td>\n",
              "      <td>53.000000</td>\n",
              "      <td>31.000000</td>\n",
              "    </tr>\n",
              "    <tr>\n",
              "      <th>max</th>\n",
              "      <td>3.736000</td>\n",
              "      <td>38.445000</td>\n",
              "      <td>33.600000</td>\n",
              "      <td>71.700000</td>\n",
              "      <td>3586.000000</td>\n",
              "      <td>6256.000000</td>\n",
              "    </tr>\n",
              "  </tbody>\n",
              "</table>\n",
              "</div>"
            ],
            "text/plain": [
              "                 SO2            NO2             O3             CO  \\\n",
              "count  647511.000000  647511.000000  647511.000000  647511.000000   \n",
              "mean       -0.001795       0.022519       0.017979       0.509197   \n",
              "std         0.078832       0.115153       0.099308       0.405319   \n",
              "min        -1.000000      -1.000000      -1.000000      -1.000000   \n",
              "25%         0.003000       0.016000       0.008000       0.300000   \n",
              "50%         0.004000       0.025000       0.021000       0.500000   \n",
              "75%         0.005000       0.038000       0.034000       0.600000   \n",
              "max         3.736000      38.445000      33.600000      71.700000   \n",
              "\n",
              "                PM10          PM2.5  \n",
              "count  647511.000000  647511.000000  \n",
              "mean       43.708051      25.411995  \n",
              "std        71.137342      43.924595  \n",
              "min        -1.000000      -1.000000  \n",
              "25%        22.000000      11.000000  \n",
              "50%        35.000000      19.000000  \n",
              "75%        53.000000      31.000000  \n",
              "max      3586.000000    6256.000000  "
            ]
          },
          "metadata": {
            "tags": []
          },
          "execution_count": 48
        }
      ]
    },
    {
      "cell_type": "code",
      "metadata": {
        "id": "Psrsis7xubKD",
        "colab_type": "code",
        "colab": {}
      },
      "source": [
        "import seaborn as sns"
      ],
      "execution_count": 0,
      "outputs": []
    },
    {
      "cell_type": "code",
      "metadata": {
        "id": "88LW3f_rubKG",
        "colab_type": "code",
        "colab": {},
        "outputId": "38c61f24-87fe-4de6-9b31-4d080bdb14bf"
      },
      "source": [
        "sns.jointplot(measurement['SO2'],measurement['NO2'])"
      ],
      "execution_count": 0,
      "outputs": [
        {
          "output_type": "execute_result",
          "data": {
            "text/plain": [
              "<seaborn.axisgrid.JointGrid at 0x1a1bcb8390>"
            ]
          },
          "metadata": {
            "tags": []
          },
          "execution_count": 53
        },
        {
          "output_type": "display_data",
          "data": {
            "image/png": "[encoded data removed]",
            "text/plain": [
              "<Figure size 432x432 with 3 Axes>"
            ]
          },
          "metadata": {
            "tags": [],
            "needs_background": "light"
          }
        }
      ]
    },
    {
      "cell_type": "code",
      "metadata": {
        "id": "R8lSqqWeubKI",
        "colab_type": "code",
        "colab": {},
        "outputId": "3e71287b-320a-43ea-9130-b472921ea0d4"
      },
      "source": [
        "corrMatrix=measurement.corr()\n",
        "sns.heatmap(corrMatrix)"
      ],
      "execution_count": 0,
      "outputs": [
        {
          "output_type": "execute_result",
          "data": {
            "text/plain": [
              "<matplotlib.axes._subplots.AxesSubplot at 0x1a2b4ebd50>"
            ]
          },
          "metadata": {
            "tags": []
          },
          "execution_count": 56
        },
        {
          "output_type": "display_data",
          "data": {
            "image/png": "[encoded data removed]",
            "text/plain": [
              "<Figure size 432x288 with 2 Axes>"
            ]
          },
          "metadata": {
            "tags": [],
            "needs_background": "light"
          }
        }
      ]
    },
    {
      "cell_type": "code",
      "metadata": {
        "id": "hTsmLVZlubKM",
        "colab_type": "code",
        "colab": {},
        "outputId": "522b2ef6-908b-45b5-ecdb-02a4a75b0dea"
      },
      "source": [
        "measurement[['PM10','PM2.5']].plot()"
      ],
      "execution_count": 0,
      "outputs": [
        {
          "output_type": "execute_result",
          "data": {
            "text/plain": [
              "<matplotlib.axes._subplots.AxesSubplot at 0x1a2bc80650>"
            ]
          },
          "metadata": {
            "tags": []
          },
          "execution_count": 58
        },
        {
          "output_type": "display_data",
          "data": {
            "image/png": "[encoded data removed]",
            "text/plain": [
              "<Figure size 432x288 with 1 Axes>"
            ]
          },
          "metadata": {
            "tags": [],
            "needs_background": "light"
          }
        }
      ]
    },
    {
      "cell_type": "code",
      "metadata": {
        "id": "UPhecRIIubKO",
        "colab_type": "code",
        "colab": {},
        "outputId": "49960611-9b12-401e-d805-43d10616ad57"
      },
      "source": [
        "print(\"We have\", measurement['SO2'].loc[(measurement['SO2']<0)].count(),\"negative values for SO2\")\n",
        "print(\"We have\", measurement['NO2'].loc[(measurement['NO2']<0)].count(),\"negative values for NO2\")\n",
        "print(\"We have\", measurement['O3'].loc[(measurement['O3']<0)].count(),\"negative values for O3\")\n",
        "print(\"We have\", measurement['CO'].loc[(measurement['CO']<0)].count(),\"negative values for CO\")\n",
        "print(\"We have\", measurement['PM10'].loc[(measurement['PM10']<0)].count(),\"negative values for PM10\")\n",
        "print(\"We have\", measurement['PM2.5'].loc[(measurement['PM2.5']<0)].count(),\"negative values for PM2.5\")"
      ],
      "execution_count": 0,
      "outputs": [
        {
          "output_type": "stream",
          "text": [
            "We have 3976 negative values for SO2\n",
            "We have 3834 negative values for NO2\n",
            "We have 4059 negative values for O3\n",
            "We have 4036 negative values for CO\n",
            "We have 3962 negative values for PM10\n",
            "We have 3973 negative values for PM2.5\n"
          ],
          "name": "stdout"
        }
      ]
    },
    {
      "cell_type": "code",
      "metadata": {
        "id": "zdvHkxcKubKQ",
        "colab_type": "code",
        "colab": {}
      },
      "source": [
        ""
      ],
      "execution_count": 0,
      "outputs": []
    }
  ]
}